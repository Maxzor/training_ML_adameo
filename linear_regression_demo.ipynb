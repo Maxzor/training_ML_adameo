{
  "nbformat": 4,
  "nbformat_minor": 0,
  "metadata": {
    "colab": {
      "provenance": [],
      "authorship_tag": "ABX9TyNlm8bsPwjptZgUuXfT79fT",
      "include_colab_link": true
    },
    "kernelspec": {
      "name": "python3",
      "display_name": "Python 3"
    },
    "language_info": {
      "name": "python"
    }
  },
  "cells": [
    {
      "cell_type": "markdown",
      "metadata": {
        "id": "view-in-github",
        "colab_type": "text"
      },
      "source": [
        "<a href=\"https://colab.research.google.com/github/Maxzor/training_ML_adameo/blob/main/linear_regression_demo.ipynb\" target=\"_parent\"><img src=\"https://colab.research.google.com/assets/colab-badge.svg\" alt=\"Open In Colab\"/></a>"
      ]
    },
    {
      "cell_type": "code",
      "execution_count": 2,
      "metadata": {
        "colab": {
          "base_uri": "https://localhost:8080/"
        },
        "id": "OTo71UbpDuQj",
        "outputId": "c34ffecb-8fdb-4f0c-86c0-c877af288902"
      },
      "outputs": [
        {
          "output_type": "stream",
          "name": "stdout",
          "text": [
            "Looking in indexes: https://pypi.org/simple, https://us-python.pkg.dev/colab-wheels/public/simple/\n",
            "Requirement already satisfied: pyspark in /usr/local/lib/python3.7/dist-packages (3.3.0)\n",
            "Requirement already satisfied: py4j==0.10.9.5 in /usr/local/lib/python3.7/dist-packages (from pyspark) (0.10.9.5)\n"
          ]
        }
      ],
      "source": [
        "!pip install pyspark\n",
        "from pyspark.sql import SparkSession\n",
        "from pyspark.ml.stat import Correlation\n",
        "import pyspark.sql.functions as F\n",
        "\n",
        "spark=SparkSession.builder.getOrCreate()"
      ]
    },
    {
      "cell_type": "code",
      "source": [
        "df=spark.read.csv('insurance.csv', inferSchema=True, header=True)\n",
        "df.show()"
      ],
      "metadata": {
        "colab": {
          "base_uri": "https://localhost:8080/"
        },
        "id": "TiqRutTyEUKn",
        "outputId": "a87bc751-7fea-4430-ab33-d8b4c65f3574"
      },
      "execution_count": 3,
      "outputs": [
        {
          "output_type": "stream",
          "name": "stdout",
          "text": [
            "+---+------+------+--------+------+---------+-----------+\n",
            "|age|gender|   bmi|children|smoker|   region|    charges|\n",
            "+---+------+------+--------+------+---------+-----------+\n",
            "| 19|female|  27.9|       0|   yes|southwest|  16884.924|\n",
            "| 18|  male| 33.77|       1|    no|southeast|  1725.5523|\n",
            "| 28|  male|  33.0|       3|    no|southeast|   4449.462|\n",
            "| 33|  male|22.705|       0|    no|northwest|21984.47061|\n",
            "| 32|  male| 28.88|       0|    no|northwest|  3866.8552|\n",
            "| 31|female| 25.74|       0|    no|southeast|  3756.6216|\n",
            "| 46|female| 33.44|       1|    no|southeast|  8240.5896|\n",
            "| 37|female| 27.74|       3|    no|northwest|  7281.5056|\n",
            "| 37|  male| 29.83|       2|    no|northeast|  6406.4107|\n",
            "| 60|female| 25.84|       0|    no|northwest|28923.13692|\n",
            "| 25|  male| 26.22|       0|    no|northeast|  2721.3208|\n",
            "| 62|female| 26.29|       0|   yes|southeast| 27808.7251|\n",
            "| 23|  male|  34.4|       0|    no|southwest|   1826.843|\n",
            "| 56|female| 39.82|       0|    no|southeast| 11090.7178|\n",
            "| 27|  male| 42.13|       0|   yes|southeast| 39611.7577|\n",
            "| 19|  male|  24.6|       1|    no|southwest|   1837.237|\n",
            "| 52|female| 30.78|       1|    no|northeast| 10797.3362|\n",
            "| 23|  male|23.845|       0|    no|northeast| 2395.17155|\n",
            "| 56|  male|  40.3|       0|    no|southwest|  10602.385|\n",
            "| 30|  male|  35.3|       0|   yes|southwest|  36837.467|\n",
            "+---+------+------+--------+------+---------+-----------+\n",
            "only showing top 20 rows\n",
            "\n"
          ]
        }
      ]
    },
    {
      "cell_type": "code",
      "source": [
        "from pyspark.ml.feature import StringIndexer\n",
        "new_col=StringIndexer(inputCol='gender', outputCol='gender_num')\n",
        "new_df=new_col.fit(df).transform(df)\n",
        "\n",
        "new_col=StringIndexer(inputCol='smoker', outputCol='smoker_num')\n",
        "new_df=new_col.fit(new_df).transform(new_df)\n",
        "\n",
        "new_col=StringIndexer(inputCol='region', outputCol='region_num')\n",
        "new_df=new_col.fit(new_df).transform(new_df)\n",
        "\n",
        "new_df.show()"
      ],
      "metadata": {
        "colab": {
          "base_uri": "https://localhost:8080/"
        },
        "id": "QDI1ZjwjEfnL",
        "outputId": "963fead2-70fe-4771-f34e-2c279fd2103f"
      },
      "execution_count": 8,
      "outputs": [
        {
          "output_type": "stream",
          "name": "stdout",
          "text": [
            "+---+------+------+--------+------+---------+-----------+----------+----------+----------+\n",
            "|age|gender|   bmi|children|smoker|   region|    charges|gender_num|smoker_num|region_num|\n",
            "+---+------+------+--------+------+---------+-----------+----------+----------+----------+\n",
            "| 19|female|  27.9|       0|   yes|southwest|  16884.924|       1.0|       1.0|       2.0|\n",
            "| 18|  male| 33.77|       1|    no|southeast|  1725.5523|       0.0|       0.0|       0.0|\n",
            "| 28|  male|  33.0|       3|    no|southeast|   4449.462|       0.0|       0.0|       0.0|\n",
            "| 33|  male|22.705|       0|    no|northwest|21984.47061|       0.0|       0.0|       1.0|\n",
            "| 32|  male| 28.88|       0|    no|northwest|  3866.8552|       0.0|       0.0|       1.0|\n",
            "| 31|female| 25.74|       0|    no|southeast|  3756.6216|       1.0|       0.0|       0.0|\n",
            "| 46|female| 33.44|       1|    no|southeast|  8240.5896|       1.0|       0.0|       0.0|\n",
            "| 37|female| 27.74|       3|    no|northwest|  7281.5056|       1.0|       0.0|       1.0|\n",
            "| 37|  male| 29.83|       2|    no|northeast|  6406.4107|       0.0|       0.0|       3.0|\n",
            "| 60|female| 25.84|       0|    no|northwest|28923.13692|       1.0|       0.0|       1.0|\n",
            "| 25|  male| 26.22|       0|    no|northeast|  2721.3208|       0.0|       0.0|       3.0|\n",
            "| 62|female| 26.29|       0|   yes|southeast| 27808.7251|       1.0|       1.0|       0.0|\n",
            "| 23|  male|  34.4|       0|    no|southwest|   1826.843|       0.0|       0.0|       2.0|\n",
            "| 56|female| 39.82|       0|    no|southeast| 11090.7178|       1.0|       0.0|       0.0|\n",
            "| 27|  male| 42.13|       0|   yes|southeast| 39611.7577|       0.0|       1.0|       0.0|\n",
            "| 19|  male|  24.6|       1|    no|southwest|   1837.237|       0.0|       0.0|       2.0|\n",
            "| 52|female| 30.78|       1|    no|northeast| 10797.3362|       1.0|       0.0|       3.0|\n",
            "| 23|  male|23.845|       0|    no|northeast| 2395.17155|       0.0|       0.0|       3.0|\n",
            "| 56|  male|  40.3|       0|    no|southwest|  10602.385|       0.0|       0.0|       2.0|\n",
            "| 30|  male|  35.3|       0|   yes|southwest|  36837.467|       0.0|       1.0|       2.0|\n",
            "+---+------+------+--------+------+---------+-----------+----------+----------+----------+\n",
            "only showing top 20 rows\n",
            "\n"
          ]
        }
      ]
    },
    {
      "cell_type": "code",
      "source": [
        "from pyspark.ml.linalg import Vector\n",
        "from pyspark.ml.feature import VectorAssembler\n",
        "\n",
        "assembler=VectorAssembler(inputCols=['age','bmi','children','gender_num','smoker_num','region_num'],\n",
        "                          outputCol='features')\n",
        "output=assembler.transform(new_df)\n",
        "output.show(truncate=False)"
      ],
      "metadata": {
        "colab": {
          "base_uri": "https://localhost:8080/"
        },
        "id": "Ov-0iz_GFZLD",
        "outputId": "da3fd3ac-e1d6-4558-eb3c-a49076acc9cd"
      },
      "execution_count": 10,
      "outputs": [
        {
          "output_type": "stream",
          "name": "stdout",
          "text": [
            "+---+------+------+--------+------+---------+-----------+----------+----------+----------+-----------------------------+\n",
            "|age|gender|bmi   |children|smoker|region   |charges    |gender_num|smoker_num|region_num|features                     |\n",
            "+---+------+------+--------+------+---------+-----------+----------+----------+----------+-----------------------------+\n",
            "|19 |female|27.9  |0       |yes   |southwest|16884.924  |1.0       |1.0       |2.0       |[19.0,27.9,0.0,1.0,1.0,2.0]  |\n",
            "|18 |male  |33.77 |1       |no    |southeast|1725.5523  |0.0       |0.0       |0.0       |[18.0,33.77,1.0,0.0,0.0,0.0] |\n",
            "|28 |male  |33.0  |3       |no    |southeast|4449.462   |0.0       |0.0       |0.0       |[28.0,33.0,3.0,0.0,0.0,0.0]  |\n",
            "|33 |male  |22.705|0       |no    |northwest|21984.47061|0.0       |0.0       |1.0       |[33.0,22.705,0.0,0.0,0.0,1.0]|\n",
            "|32 |male  |28.88 |0       |no    |northwest|3866.8552  |0.0       |0.0       |1.0       |[32.0,28.88,0.0,0.0,0.0,1.0] |\n",
            "|31 |female|25.74 |0       |no    |southeast|3756.6216  |1.0       |0.0       |0.0       |[31.0,25.74,0.0,1.0,0.0,0.0] |\n",
            "|46 |female|33.44 |1       |no    |southeast|8240.5896  |1.0       |0.0       |0.0       |[46.0,33.44,1.0,1.0,0.0,0.0] |\n",
            "|37 |female|27.74 |3       |no    |northwest|7281.5056  |1.0       |0.0       |1.0       |[37.0,27.74,3.0,1.0,0.0,1.0] |\n",
            "|37 |male  |29.83 |2       |no    |northeast|6406.4107  |0.0       |0.0       |3.0       |[37.0,29.83,2.0,0.0,0.0,3.0] |\n",
            "|60 |female|25.84 |0       |no    |northwest|28923.13692|1.0       |0.0       |1.0       |[60.0,25.84,0.0,1.0,0.0,1.0] |\n",
            "|25 |male  |26.22 |0       |no    |northeast|2721.3208  |0.0       |0.0       |3.0       |[25.0,26.22,0.0,0.0,0.0,3.0] |\n",
            "|62 |female|26.29 |0       |yes   |southeast|27808.7251 |1.0       |1.0       |0.0       |[62.0,26.29,0.0,1.0,1.0,0.0] |\n",
            "|23 |male  |34.4  |0       |no    |southwest|1826.843   |0.0       |0.0       |2.0       |[23.0,34.4,0.0,0.0,0.0,2.0]  |\n",
            "|56 |female|39.82 |0       |no    |southeast|11090.7178 |1.0       |0.0       |0.0       |[56.0,39.82,0.0,1.0,0.0,0.0] |\n",
            "|27 |male  |42.13 |0       |yes   |southeast|39611.7577 |0.0       |1.0       |0.0       |[27.0,42.13,0.0,0.0,1.0,0.0] |\n",
            "|19 |male  |24.6  |1       |no    |southwest|1837.237   |0.0       |0.0       |2.0       |[19.0,24.6,1.0,0.0,0.0,2.0]  |\n",
            "|52 |female|30.78 |1       |no    |northeast|10797.3362 |1.0       |0.0       |3.0       |[52.0,30.78,1.0,1.0,0.0,3.0] |\n",
            "|23 |male  |23.845|0       |no    |northeast|2395.17155 |0.0       |0.0       |3.0       |[23.0,23.845,0.0,0.0,0.0,3.0]|\n",
            "|56 |male  |40.3  |0       |no    |southwest|10602.385  |0.0       |0.0       |2.0       |[56.0,40.3,0.0,0.0,0.0,2.0]  |\n",
            "|30 |male  |35.3  |0       |yes   |southwest|36837.467  |0.0       |1.0       |2.0       |[30.0,35.3,0.0,0.0,1.0,2.0]  |\n",
            "+---+------+------+--------+------+---------+-----------+----------+----------+----------+-----------------------------+\n",
            "only showing top 20 rows\n",
            "\n"
          ]
        }
      ]
    },
    {
      "cell_type": "code",
      "source": [
        "final_data=output.select('features','charges')\n",
        "final_data.show(5)"
      ],
      "metadata": {
        "colab": {
          "base_uri": "https://localhost:8080/"
        },
        "id": "1FByg0RLGCTO",
        "outputId": "7a3f09b8-9172-4794-9d56-307ce0f70c35"
      },
      "execution_count": 11,
      "outputs": [
        {
          "output_type": "stream",
          "name": "stdout",
          "text": [
            "+--------------------+-----------+\n",
            "|            features|    charges|\n",
            "+--------------------+-----------+\n",
            "|[19.0,27.9,0.0,1....|  16884.924|\n",
            "|[18.0,33.77,1.0,0...|  1725.5523|\n",
            "|[28.0,33.0,3.0,0....|   4449.462|\n",
            "|[33.0,22.705,0.0,...|21984.47061|\n",
            "|[32.0,28.88,0.0,0...|  3866.8552|\n",
            "+--------------------+-----------+\n",
            "only showing top 5 rows\n",
            "\n"
          ]
        }
      ]
    },
    {
      "cell_type": "code",
      "source": [
        "train_data, test_data = final_data.randomSplit([0.6,0.4])\n",
        "from pyspark.ml.regression import LinearRegression\n",
        "\n",
        "lr=LinearRegression(featuresCol='features',labelCol='charges')\n",
        "trained_model=lr.fit(train_data)\n",
        "\n",
        "score=trained_model.evaluate(train_data)\n",
        "score.r2"
      ],
      "metadata": {
        "colab": {
          "base_uri": "https://localhost:8080/"
        },
        "id": "U1UO0_IqGPjn",
        "outputId": "0b6b23f4-75ad-41ff-ba5b-298b578d5eb5"
      },
      "execution_count": 12,
      "outputs": [
        {
          "output_type": "execute_result",
          "data": {
            "text/plain": [
              "0.7688237511934666"
            ]
          },
          "metadata": {},
          "execution_count": 12
        }
      ]
    },
    {
      "cell_type": "code",
      "source": [
        "unlabeled_data=test_data.select('features')\n",
        "pred=trained_model.transform(unlabeled_data)\n",
        "pred.show()"
      ],
      "metadata": {
        "colab": {
          "base_uri": "https://localhost:8080/"
        },
        "id": "ruDjeGQoGvQr",
        "outputId": "5e223c0f-7013-46ec-ad0f-3578c3619b23"
      },
      "execution_count": 13,
      "outputs": [
        {
          "output_type": "stream",
          "name": "stdout",
          "text": [
            "+--------------------+-------------------+\n",
            "|            features|         prediction|\n",
            "+--------------------+-------------------+\n",
            "|(6,[0,1],[18.0,37...|  4201.642154034673|\n",
            "|(6,[0,1],[18.0,43...|  6207.397926164233|\n",
            "|(6,[0,1],[18.0,53...|  9756.042753778065|\n",
            "|(6,[0,1],[21.0,23...| 25.292233285179464|\n",
            "|(6,[0,1],[21.0,31...| 2763.9203067697654|\n",
            "|(6,[0,1],[21.0,36...|  4808.248305286432|\n",
            "|(6,[0,1],[27.0,32...|  4864.293816176743|\n",
            "|(6,[0,1],[33.0,30...|  5537.494949260761|\n",
            "|(6,[0,1],[36.0,29...| 6105.5288741254135|\n",
            "|(6,[0,1],[37.0,36...|   8634.92191656478|\n",
            "|(6,[0,1],[42.0,24...|  5930.141026693082|\n",
            "|(6,[0,1],[48.0,40...| 12813.470608101312|\n",
            "|(6,[0,1],[49.0,36...| 11909.935502088169|\n",
            "|(6,[0,1],[52.0,34...|  11706.52489921068|\n",
            "|(6,[0,1],[58.0,36...| 13922.615087778975|\n",
            "|(6,[0,1],[62.0,38...| 15901.447489856893|\n",
            "|(6,[0,1],[62.0,39...| 16287.169753727963|\n",
            "|(6,[0,1],[63.0,41...| 17080.812608747525|\n",
            "|[18.0,15.96,0.0,0...|-1833.6790158438089|\n",
            "|[18.0,20.79,0.0,1...|-1547.3921918216165|\n",
            "+--------------------+-------------------+\n",
            "only showing top 20 rows\n",
            "\n"
          ]
        }
      ]
    }
  ]
}